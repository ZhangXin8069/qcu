{
 "cells": [
  {
   "cell_type": "code",
   "execution_count": 2,
   "metadata": {},
   "outputs": [
    {
     "name": "stdout",
     "output_type": "stream",
     "text": [
      "Disabling GPU-Direct RDMA access\n",
      "Enabling peer-to-peer copy engine and direct load/store access\n",
      "QUDA 1.1.0 (git 1.1.0--sm_80)\n",
      "CUDA Driver version = 12040\n",
      "CUDA Runtime version = 12030\n",
      "Found device 0: NVIDIA GeForce RTX 4060 Laptop GPU\n",
      "WARNING: ** Running on a device with compute capability 8.9 but QUDA was compiled for 8.0. **\n",
      " -- This might result in a lower performance. Please consider adjusting QUDA_GPU_ARCH when running cmake.\n",
      "\n",
      "Using device 0: NVIDIA GeForce RTX 4060 Laptop GPU\n",
      "WARNING: Data reordering done on GPU (set with QUDA_REORDER_LOCATION=GPU/CPU)\n",
      "Loaded 103 sets of cached parameters from .cache/tunecache.tsv\n",
      "Loaded 103 sets of cached parameters from .cache/tunecache.tsv\n",
      "WARNING: Using device memory pool allocator\n",
      "WARNING: Using pinned memory pool allocator\n",
      "cublasCreated successfully\n",
      "Creating Gaussian distrbuted Lie group field with sigma = 1.000000e-01\n"
     ]
    }
   ],
   "source": [
    "# init\n",
    "from pyquda.utils import gauge_utils\n",
    "from pyquda.field import LatticeFermion\n",
    "from pyquda.enum_quda import QudaParity\n",
    "from pyquda import init, core, quda, pyqcu, mpi, pointer\n",
    "import os\n",
    "import sys\n",
    "from time import perf_counter\n",
    "import cupy as cp\n",
    "test_dir = os.path.dirname(os.path.abspath(\"./\"))\n",
    "sys.path.insert(0, os.path.join(test_dir, \"..\"))\n",
    "os.environ[\"QUDA_RESOURCE_PATH\"] = \".cache\"\n",
    "latt_size = [16, 32, 32, 64]\n",
    "grid_size = [1, 1, 1, 1]\n",
    "Lx, Ly, Lz, Lt = latt_size\n",
    "Nd, Ns, Nc = 4, 4, 3\n",
    "Gx, Gy, Gz, Gt = grid_size\n",
    "latt_size = [Lx//Gx, Ly//Gy, Lz//Gz, Lt//Gt]\n",
    "_latt_size = [Lx//Gx//2, Ly//Gy, Lz//Gz, Lt//Gt]\n",
    "Lx, Ly, Lz, Lt = latt_size\n",
    "Vol = Lx * Ly * Lz * Lt\n",
    "mpi.init(grid_size)\n",
    "latt_shape = (Lt, Lz, Ly, Lx//2, Ns, Nc)\n",
    "param = pyqcu.QcuParam()\n",
    "param.lattice_size = latt_size\n",
    "dslash = core.getDslash(latt_size, -3.5, 0, 0, anti_periodic_t=False)\n",
    "kappa = 0.125\n",
    "U = gauge_utils.gaussGauge(latt_size, 0)\n",
    "dslash.loadGauge(U)"
   ]
  },
  {
   "cell_type": "code",
   "execution_count": 3,
   "metadata": {},
   "outputs": [
    {
     "name": "stdout",
     "output_type": "stream",
     "text": [
      "## ans_o =  (0.7061157568259795+0.0433102981616878j)\n"
     ]
    }
   ],
   "source": [
    "# give ans first\n",
    "ans_e = cp.random.random(latt_shape) + 1j * \\\n",
    "    cp.random.random(latt_shape)  # ans_e\n",
    "ans_o = cp.random.random(latt_shape) + 1j * \\\n",
    "    cp.random.random(latt_shape)  # ans_o\n",
    "print(\"## ans_o = \", ans_o[0, 0, 0, 0, 0, 0])"
   ]
  },
  {
   "cell_type": "code",
   "execution_count": 4,
   "metadata": {},
   "outputs": [],
   "source": [
    "# give x_o, b__o, r, r_tilde, p, v, s, t, latt_tmp0, latt_tmp1\n",
    "x_o = cp.zeros(latt_shape, cp.complex128)\n",
    "b_e = cp.zeros(latt_shape, cp.complex128)\n",
    "b_o = cp.zeros(latt_shape, cp.complex128)\n",
    "b__o = cp.zeros(latt_shape, cp.complex128)\n",
    "r = cp.zeros(latt_shape, cp.complex128)\n",
    "r_tilde = cp.zeros(latt_shape, cp.complex128)\n",
    "p = cp.zeros(latt_shape, cp.complex128)\n",
    "s = cp.zeros(latt_shape, cp.complex128)\n",
    "t = cp.zeros(latt_shape, cp.complex128)\n",
    "latt_tmp0 = cp.zeros(latt_shape, cp.complex128)\n",
    "latt_tmp1 = cp.zeros(latt_shape, cp.complex128)\n",
    "zero = cp.zeros(latt_shape, cp.complex128)\n",
    "# give r_norm2, MAX_ITER, TOL, rho_prev, rho, alpha, omega, beta, tmp0, tmp1, kappa\n",
    "r_norm2 = 0\n",
    "MAX_ITER = 1e2\n",
    "TOL = 1e-6\n",
    "rho_prev = 1\n",
    "rho = 0\n",
    "alpha = 1\n",
    "omega = 1\n",
    "beta = 0\n",
    "tmp0 = 0\n",
    "tmp1 = 0\n",
    "kappa = 0.125"
   ]
  },
  {
   "cell_type": "code",
   "execution_count": 5,
   "metadata": {},
   "outputs": [],
   "source": [
    "# define dslash\n",
    "def dslash(src_o, dest_o):\n",
    "    latt_tmp0 = zero\n",
    "    latt_tmp1 = zero\n",
    "    _latt_tmp0 = LatticeFermion(_latt_size, latt_tmp0)\n",
    "    _latt_tmp1 = LatticeFermion(_latt_size, latt_tmp1)\n",
    "    _src_o = LatticeFermion(_latt_size, src_o)\n",
    "    pyqcu.dslashQcu(_latt_tmp0.even_ptr, _src_o.even_ptr,\n",
    "                    U.data_ptr, param, 0)  # D_eo\n",
    "    pyqcu.dslashQcu(_latt_tmp1.even_ptr, _latt_tmp0.even_ptr,\n",
    "                    U.data_ptr, param, 1)  # D_oe\n",
    "    return src_o-kappa**2*latt_tmp1"
   ]
  },
  {
   "cell_type": "code",
   "execution_count": 6,
   "metadata": {},
   "outputs": [],
   "source": [
    "# give b'_o(b__0)\n",
    "_latt_tmp0 = LatticeFermion(_latt_size, latt_tmp0)\n",
    "_latt_tmp1 = LatticeFermion(_latt_size, latt_tmp1)\n",
    "_ans_e = LatticeFermion(_latt_size, ans_e)\n",
    "_ans_o = LatticeFermion(_latt_size, ans_o)\n",
    "_b_e = LatticeFermion(_latt_size, b_e)\n",
    "_b_o = LatticeFermion(_latt_size, b_o)\n",
    "latt_tmp0 = zero\n",
    "pyqcu.dslashQcu(_latt_tmp0.even_ptr, _ans_o.even_ptr,\n",
    "                U.data_ptr, param, 0)  # give D_eo ans_o\n",
    "b_e = ans_e-kappa*latt_tmp0\n",
    "latt_tmp1 = zero\n",
    "pyqcu.dslashQcu(_latt_tmp1.even_ptr, _ans_e.even_ptr,\n",
    "                U.data_ptr, param, 1)  # give D_oe ans_e\n",
    "b_o = ans_o-kappa*latt_tmp1\n",
    "latt_tmp1 = zero\n",
    "pyqcu.dslashQcu(_latt_tmp1.even_ptr, _b_e.even_ptr,\n",
    "                U.data_ptr, param, 1)  # give D_oe b_e\n",
    "b__o = b_o+kappa*latt_tmp1"
   ]
  },
  {
   "cell_type": "code",
   "execution_count": 11,
   "metadata": {},
   "outputs": [],
   "source": [
    "def dot(a, b):\n",
    "    return cp.inner(a.flatten().conjugate(), b.flatten())"
   ]
  },
  {
   "cell_type": "code",
   "execution_count": 7,
   "metadata": {},
   "outputs": [
    {
     "ename": "ValueError",
     "evalue": "Axis dimension mismatch",
     "output_type": "error",
     "traceback": [
      "\u001b[0;31m---------------------------------------------------------------------------\u001b[0m",
      "\u001b[0;31mValueError\u001b[0m                                Traceback (most recent call last)",
      "Cell \u001b[0;32mIn[7], line 5\u001b[0m\n\u001b[1;32m      3\u001b[0m r_tilde \u001b[38;5;241m=\u001b[39m r\n\u001b[1;32m      4\u001b[0m \u001b[38;5;28;01mfor\u001b[39;00m i \u001b[38;5;129;01min\u001b[39;00m \u001b[38;5;28mrange\u001b[39m(\u001b[38;5;241m1\u001b[39m, \u001b[38;5;28mint\u001b[39m(MAX_ITER)):\n\u001b[0;32m----> 5\u001b[0m     rho \u001b[38;5;241m=\u001b[39m \u001b[43mcp\u001b[49m\u001b[38;5;241;43m.\u001b[39;49m\u001b[43mdot\u001b[49m\u001b[43m(\u001b[49m\u001b[43mr_tilde\u001b[49m\u001b[43m,\u001b[49m\u001b[43m \u001b[49m\u001b[43mr\u001b[49m\u001b[43m)\u001b[49m\n\u001b[1;32m      6\u001b[0m     beta \u001b[38;5;241m=\u001b[39m (rho \u001b[38;5;241m/\u001b[39m rho_prev) \u001b[38;5;241m*\u001b[39m (alpha \u001b[38;5;241m/\u001b[39m omega)\n\u001b[1;32m      7\u001b[0m     p \u001b[38;5;241m=\u001b[39m r \u001b[38;5;241m+\u001b[39m (p \u001b[38;5;241m-\u001b[39m v \u001b[38;5;241m*\u001b[39m omega) \u001b[38;5;241m*\u001b[39m beta\n",
      "File \u001b[0;32m~/.local/lib/python3.10/site-packages/cupy/linalg/_product.py:62\u001b[0m, in \u001b[0;36mdot\u001b[0;34m(a, b, out)\u001b[0m\n\u001b[1;32m     43\u001b[0m \u001b[38;5;250m\u001b[39m\u001b[38;5;124;03m\"\"\"Returns a dot product of two arrays.\u001b[39;00m\n\u001b[1;32m     44\u001b[0m \n\u001b[1;32m     45\u001b[0m \u001b[38;5;124;03mFor arrays with more than one axis, it computes the dot product along the\u001b[39;00m\n\u001b[0;32m   (...)\u001b[0m\n\u001b[1;32m     59\u001b[0m \n\u001b[1;32m     60\u001b[0m \u001b[38;5;124;03m\"\"\"\u001b[39;00m\n\u001b[1;32m     61\u001b[0m \u001b[38;5;66;03m# TODO(okuta): check type\u001b[39;00m\n\u001b[0;32m---> 62\u001b[0m \u001b[38;5;28;01mreturn\u001b[39;00m \u001b[43ma\u001b[49m\u001b[38;5;241;43m.\u001b[39;49m\u001b[43mdot\u001b[49m\u001b[43m(\u001b[49m\u001b[43mb\u001b[49m\u001b[43m,\u001b[49m\u001b[43m \u001b[49m\u001b[43mout\u001b[49m\u001b[43m)\u001b[49m\n",
      "File \u001b[0;32mcupy/_core/core.pyx:1761\u001b[0m, in \u001b[0;36mcupy._core.core._ndarray_base.dot\u001b[0;34m()\u001b[0m\n",
      "File \u001b[0;32mcupy/_core/_routines_linalg.pyx:514\u001b[0m, in \u001b[0;36mcupy._core._routines_linalg.dot\u001b[0;34m()\u001b[0m\n",
      "\u001b[0;31mValueError\u001b[0m: Axis dimension mismatch"
     ]
    }
   ],
   "source": [
    "# bistabcg\n",
    "r = b__o\n",
    "r_tilde = r\n",
    "for i in range(1, int(MAX_ITER)):\n",
    "    rho = cp.dot(r_tilde, r)\n",
    "    beta = (rho / rho_prev) * (alpha / omega)\n",
    "    p = r + (p - v * omega) * beta\n",
    "    # v = A * p\n",
    "    dslash(p, v)\n",
    "    alpha = rho / cp.dot(r_tilde, v)\n",
    "    s = r - v * alpha\n",
    "    # t = A * s\n",
    "    dslash(s, t)\n",
    "    omega = cp.dot(t, s) / cp.dot(t, t)\n",
    "    x_o = x_o + p * alpha + s * omega\n",
    "    r = s - t * omega\n",
    "    r_norm2 = cp.dot(r, r)\n",
    "    # break\n",
    "    if (r_norm2 < TOL or i == MAX_ITER - 1):\n",
    "        print(\"## turns:\", i)\n",
    "        break\n",
    "    rho_prev = rho\n",
    "\n",
    "print('## difference: ', cp.linalg.norm(x_o - ans_o) / cp.linalg.norm(ans_o))"
   ]
  },
  {
   "cell_type": "code",
   "execution_count": 8,
   "metadata": {},
   "outputs": [
    {
     "name": "stdout",
     "output_type": "stream",
     "text": [
      "(64, 32, 32, 8, 4, 3)\n"
     ]
    }
   ],
   "source": [
    "print(r.shape)"
   ]
  },
  {
   "cell_type": "code",
   "execution_count": 9,
   "metadata": {},
   "outputs": [
    {
     "name": "stdout",
     "output_type": "stream",
     "text": [
      "(64, 32, 32, 8, 4, 3)\n"
     ]
    }
   ],
   "source": [
    "print(r_tilde.shape)"
   ]
  },
  {
   "cell_type": "code",
   "execution_count": 10,
   "metadata": {},
   "outputs": [
    {
     "ename": "ValueError",
     "evalue": "Axis dimension mismatch",
     "output_type": "error",
     "traceback": [
      "\u001b[0;31m---------------------------------------------------------------------------\u001b[0m",
      "\u001b[0;31mValueError\u001b[0m                                Traceback (most recent call last)",
      "Cell \u001b[0;32mIn[10], line 1\u001b[0m\n\u001b[0;32m----> 1\u001b[0m \u001b[43mcp\u001b[49m\u001b[38;5;241;43m.\u001b[39;49m\u001b[43mdot\u001b[49m\u001b[43m(\u001b[49m\u001b[43mr_tilde\u001b[49m\u001b[43m,\u001b[49m\u001b[43m \u001b[49m\u001b[43mr\u001b[49m\u001b[43m)\u001b[49m\n",
      "File \u001b[0;32m~/.local/lib/python3.10/site-packages/cupy/linalg/_product.py:62\u001b[0m, in \u001b[0;36mdot\u001b[0;34m(a, b, out)\u001b[0m\n\u001b[1;32m     43\u001b[0m \u001b[38;5;250m\u001b[39m\u001b[38;5;124;03m\"\"\"Returns a dot product of two arrays.\u001b[39;00m\n\u001b[1;32m     44\u001b[0m \n\u001b[1;32m     45\u001b[0m \u001b[38;5;124;03mFor arrays with more than one axis, it computes the dot product along the\u001b[39;00m\n\u001b[0;32m   (...)\u001b[0m\n\u001b[1;32m     59\u001b[0m \n\u001b[1;32m     60\u001b[0m \u001b[38;5;124;03m\"\"\"\u001b[39;00m\n\u001b[1;32m     61\u001b[0m \u001b[38;5;66;03m# TODO(okuta): check type\u001b[39;00m\n\u001b[0;32m---> 62\u001b[0m \u001b[38;5;28;01mreturn\u001b[39;00m \u001b[43ma\u001b[49m\u001b[38;5;241;43m.\u001b[39;49m\u001b[43mdot\u001b[49m\u001b[43m(\u001b[49m\u001b[43mb\u001b[49m\u001b[43m,\u001b[49m\u001b[43m \u001b[49m\u001b[43mout\u001b[49m\u001b[43m)\u001b[49m\n",
      "File \u001b[0;32mcupy/_core/core.pyx:1761\u001b[0m, in \u001b[0;36mcupy._core.core._ndarray_base.dot\u001b[0;34m()\u001b[0m\n",
      "File \u001b[0;32mcupy/_core/_routines_linalg.pyx:514\u001b[0m, in \u001b[0;36mcupy._core._routines_linalg.dot\u001b[0;34m()\u001b[0m\n",
      "\u001b[0;31mValueError\u001b[0m: Axis dimension mismatch"
     ]
    }
   ],
   "source": [
    "cp.dot(r_tilde, r)"
   ]
  }
 ],
 "metadata": {
  "kernelspec": {
   "display_name": "Python 3",
   "language": "python",
   "name": "python3"
  },
  "language_info": {
   "codemirror_mode": {
    "name": "ipython",
    "version": 3
   },
   "file_extension": ".py",
   "mimetype": "text/x-python",
   "name": "python",
   "nbconvert_exporter": "python",
   "pygments_lexer": "ipython3",
   "version": "3.10.12"
  }
 },
 "nbformat": 4,
 "nbformat_minor": 2
}
