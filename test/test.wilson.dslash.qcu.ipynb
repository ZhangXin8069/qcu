{
 "cells": [
  {
   "cell_type": "code",
   "execution_count": null,
   "metadata": {},
   "outputs": [
    {
     "ename": "",
     "evalue": "",
     "output_type": "error",
     "traceback": [
      "\u001b[1;31mThe kernel failed to start due to the missing module 'typing_extensions'. Consider installing this module.\n",
      "\u001b[1;31mClick <a href='https://aka.ms/kernelFailuresMissingModule'>here</a> for more info."
     ]
    }
   ],
   "source": [
    "# init\n",
    "from pyquda.utils import gauge_utils\n",
    "from pyquda.field import LatticeFermion\n",
    "from pyquda import core, pyqcu, mpi\n",
    "import os\n",
    "import sys\n",
    "from time import perf_counter\n",
    "import cupy as cp\n",
    "test_dir = os.path.dirname(os.path.abspath(\"./\"))\n",
    "sys.path.insert(0, os.path.join(test_dir, \"..\"))\n",
    "os.environ[\"QUDA_RESOURCE_PATH\"] = \".cache\"\n",
    "latt_size = [16, 16, 16, 32]\n",
    "grid_size = [1, 1, 1, 1]\n",
    "Lx, Ly, Lz, Lt = latt_size\n",
    "Nd, Ns, Nc = 4, 4, 3\n",
    "Gx, Gy, Gz, Gt = grid_size\n",
    "latt_size = [Lx//Gx, Ly//Gy, Lz//Gz, Lt//Gt]\n",
    "Lx, Ly, Lz, Lt = latt_size\n",
    "Vol = Lx * Ly * Lz * Lt\n",
    "mpi.init(grid_size)\n",
    "device_latt_tmp0 = LatticeFermion(latt_size, cp.zeros(\n",
    "    (Lt, Lz, Ly, Lx, Ns, Nc), cp.complex128))\n",
    "device_latt_tmp1 = LatticeFermion(latt_size, cp.zeros(\n",
    "    (Lt, Lz, Ly, Lx, Ns, Nc), cp.complex128))\n",
    "latt_shape = (Lt, Lz, Ly, Lx//2, Ns, Nc)\n",
    "param = pyqcu.QcuParam()\n",
    "param.lattice_size = latt_size\n",
    "mpi_dslash = core.getDslash(latt_size, -3.5, 0, 0, anti_periodic_t=False)\n",
    "kappa = 0.125\n",
    "U = gauge_utils.gaussGauge(latt_size, 0)\n",
    "mpi_dslash.loadGauge(U)"
   ]
  },
  {
   "cell_type": "code",
   "execution_count": null,
   "metadata": {},
   "outputs": [
    {
     "ename": "",
     "evalue": "",
     "output_type": "error",
     "traceback": [
      "\u001b[1;31mThe kernel failed to start due to the missing module 'typing_extensions'. Consider installing this module.\n",
      "\u001b[1;31mClick <a href='https://aka.ms/kernelFailuresMissingModule'>here</a> for more info."
     ]
    }
   ],
   "source": [
    "def compare(round):\n",
    "    # generate a vector p randomly\n",
    "    p = LatticeFermion(latt_size, cp.random.randn(Lt, Lz, Ly, Lx, Ns, Nc * 2).view(cp.complex128))\n",
    "    Mp = LatticeFermion(latt_size)\n",
    "    Mp1 = LatticeFermion(latt_size)\n",
    "\n",
    "    print('===============round ', round, '======================')\n",
    "\n",
    "    # Set parameters in Dslash and use m=-3.5 to make kappa=1\n",
    "    dslash = core.getDslash(latt_size, -3.5, 0, 0, anti_periodic_t=False)\n",
    "    # Generate gauge and then load it\n",
    "    U = gauge_utils.gaussGauge(latt_size, round)\n",
    "    dslash.loadGauge(U)\n",
    "\n",
    "    cp.cuda.runtime.deviceSynchronize()\n",
    "    t1 = perf_counter()\n",
    "    quda.dslashQuda(Mp.even_ptr, p.odd_ptr, dslash.invert_param, QudaParity.QUDA_EVEN_PARITY)\n",
    "    quda.dslashQuda(Mp.odd_ptr, p.even_ptr, dslash.invert_param, QudaParity.QUDA_ODD_PARITY)\n",
    "    cp.cuda.runtime.deviceSynchronize()\n",
    "    t2 = perf_counter()\n",
    "    print(f'Quda dslash: {t2 - t1} sec')\n",
    "\n",
    "    # then execute my code\n",
    "    param = pyqcu.QcuParam()\n",
    "    param.lattice_size = latt_size\n",
    "\n",
    "    cp.cuda.runtime.deviceSynchronize()\n",
    "    t1 = perf_counter()\n",
    "    pyqcu.dslashQcu(Mp1.even_ptr, p.odd_ptr, U.data_ptr, param, 0)\n",
    "    pyqcu.dslashQcu(Mp1.odd_ptr, p.even_ptr, U.data_ptr, param, 1)\n",
    "    cp.cuda.runtime.deviceSynchronize()\n",
    "    t2 = perf_counter()\n",
    "    print(f'QCU dslash: {t2 - t1} sec')\n",
    "\n",
    "    print('difference: ', cp.linalg.norm(Mp1.data - Mp.data) / cp.linalg.norm(Mp.data))\n"
   ]
  },
  {
   "cell_type": "code",
   "execution_count": null,
   "metadata": {},
   "outputs": [
    {
     "ename": "",
     "evalue": "",
     "output_type": "error",
     "traceback": [
      "\u001b[1;31mThe kernel failed to start due to the missing module 'typing_extensions'. Consider installing this module.\n",
      "\u001b[1;31mClick <a href='https://aka.ms/kernelFailuresMissingModule'>here</a> for more info."
     ]
    }
   ],
   "source": [
    "for i in range(0, 5):\n",
    "    compare(i)\n"
   ]
  }
 ],
 "metadata": {
  "kernelspec": {
   "display_name": "Python 3",
   "language": "python",
   "name": "python3"
  },
  "language_info": {
   "codemirror_mode": {
    "name": "ipython",
    "version": 3
   },
   "file_extension": ".py",
   "mimetype": "text/x-python",
   "name": "python",
   "nbconvert_exporter": "python",
   "pygments_lexer": "ipython3",
   "version": "3.10.12"
  }
 },
 "nbformat": 4,
 "nbformat_minor": 2
}
