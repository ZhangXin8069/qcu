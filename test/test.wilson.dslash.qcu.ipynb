{
 "cells": [
  {
   "cell_type": "code",
   "execution_count": 2,
   "metadata": {},
   "outputs": [],
   "source": [
    "import os\n",
    "import sys\n",
    "from time import perf_counter\n",
    "\n",
    "import cupy as cp\n",
    "\n",
    "# test_dir = os.path.dirname(os.path.abspath(__file__))\n",
    "# sys.path.insert(0, os.path.join(test_dir, \"..\"))\n",
    "\n",
    "from pyquda import init, core, quda, pyqcu, mpi\n",
    "from pyquda.enum_quda import QudaParity\n",
    "from pyquda.field import LatticeFermion\n",
    "from pyquda.utils import gauge_utils\n",
    "\n",
    "os.environ[\"QUDA_RESOURCE_PATH\"] = \".cache\""
   ]
  },
  {
   "cell_type": "code",
   "execution_count": 3,
   "metadata": {},
   "outputs": [
    {
     "name": "stdout",
     "output_type": "stream",
     "text": [
      "Disabling GPU-Direct RDMA access\n",
      "Enabling peer-to-peer copy engine and direct load/store access\n",
      "QUDA 1.1.0 (git 1.1.0--sm_60)\n",
      "CUDA Driver version = 12020\n",
      "CUDA Runtime version = 12040\n",
      "Found device 0: Tesla P100-PCIE-16GB\n",
      "Found device 1: Tesla P100-PCIE-16GB\n",
      "Using device 0: Tesla P100-PCIE-16GB\n",
      "WARNING: Data reordering done on GPU (set with QUDA_REORDER_LOCATION=GPU/CPU)\n",
      "WARNING: Cache file not found.  All kernels will be re-tuned (if tuning is enabled).\n",
      "WARNING: Cache file not found.  All kernels will be re-tuned (if tuning is enabled).\n",
      "WARNING: Using device memory pool allocator\n",
      "WARNING: Using pinned memory pool allocator\n",
      "cublasCreated successfully\n"
     ]
    }
   ],
   "source": [
    "latt_size = [16, 16, 16, 32]\n",
    "grid_size = [1, 1, 1, 1]\n",
    "Lx, Ly, Lz, Lt = latt_size\n",
    "Nd, Ns, Nc = 4, 4, 3\n",
    "Gx, Gy, Gz, Gt = grid_size\n",
    "latt_size = [Lx // Gx, Ly // Gy, Lz // Gz, Lt // Gt]\n",
    "Lx, Ly, Lz, Lt = latt_size\n",
    "Vol = Lx * Ly * Lz * Lt\n",
    "mpi.init(grid_size)\n"
   ]
  },
  {
   "cell_type": "code",
   "execution_count": 4,
   "metadata": {},
   "outputs": [],
   "source": [
    "def compare(round):\n",
    "    # generate a vector p randomly\n",
    "    p = LatticeFermion(latt_size, cp.random.randn(Lt, Lz, Ly, Lx, Ns, Nc * 2).view(cp.complex128))\n",
    "    Mp = LatticeFermion(latt_size)\n",
    "    Mp1 = LatticeFermion(latt_size)\n",
    "\n",
    "    print('===============round ', round, '======================')\n",
    "\n",
    "    # Set parameters in Dslash and use m=-3.5 to make kappa=1\n",
    "    dslash = core.getDslash(latt_size, -3.5, 0, 0, anti_periodic_t=False)\n",
    "    # Generate gauge and then load it\n",
    "    U = gauge_utils.gaussGauge(latt_size, round)\n",
    "    dslash.loadGauge(U)\n",
    "\n",
    "    cp.cuda.runtime.deviceSynchronize()\n",
    "    t1 = perf_counter()\n",
    "    quda.dslashQuda(Mp.even_ptr, p.odd_ptr, dslash.invert_param, QudaParity.QUDA_EVEN_PARITY)\n",
    "    quda.dslashQuda(Mp.odd_ptr, p.even_ptr, dslash.invert_param, QudaParity.QUDA_ODD_PARITY)\n",
    "    cp.cuda.runtime.deviceSynchronize()\n",
    "    t2 = perf_counter()\n",
    "    print(f'Quda dslash: {t2 - t1} sec')\n",
    "\n",
    "    # then execute my code\n",
    "    param = pyqcu.QcuParam()\n",
    "    param.lattice_size = latt_size\n",
    "\n",
    "    cp.cuda.runtime.deviceSynchronize()\n",
    "    t1 = perf_counter()\n",
    "    pyqcu.dslashQcu(Mp1.even_ptr, p.odd_ptr, U.data_ptr, param, 0)\n",
    "    pyqcu.dslashQcu(Mp1.odd_ptr, p.even_ptr, U.data_ptr, param, 1)\n",
    "    cp.cuda.runtime.deviceSynchronize()\n",
    "    t2 = perf_counter()\n",
    "    print(f'QCU dslash: {t2 - t1} sec')\n",
    "\n",
    "    print('difference: ', cp.linalg.norm(Mp1.data - Mp.data) / cp.linalg.norm(Mp.data))\n"
   ]
  },
  {
   "cell_type": "code",
   "execution_count": 5,
   "metadata": {},
   "outputs": [
    {
     "name": "stdout",
     "output_type": "stream",
     "text": [
      "===============round  0 ======================\n",
      "WARNING: Unexpected regression when tuning candidates for cudaMemset: (1.65527e-05 > 1.1 * 1.0512e-05)\n",
      "WARNING: Unexpected regression when tuning candidates for N4quda7RNGInitE: (0.00664724 > 1.1 * 0.00577618)\n",
      "Creating Gaussian distrbuted Lie group field with sigma = 1.000000e-01\n",
      "WARNING: Unexpected regression when tuning candidates for cudaMemcpyDefault: (0.000188158 > 1.1 * 8.0448e-05)\n",
      "Quda dslash: 0.7119035910000093 sec\n",
      "wilson dslash total time: (without malloc free memcpy) :0.001020410 sec\n",
      "QCU dslash: 0.01289791299495846 sec\n",
      "wilson dslash total time: (without malloc free memcpy) :0.001011885 sec\n",
      "difference:  2.802702227159453e-16\n",
      "===============round  1 ======================\n",
      "Creating Gaussian distrbuted Lie group field with sigma = 1.000000e-01\n",
      "Quda dslash: 0.002277337000123225 sec\n",
      "wilson dslash total time: (without malloc free memcpy) :0.001143456 sec\n",
      "wilson dslash total time: (without malloc free memcpy) :0.000937940 sec\n",
      "QCU dslash: 0.0038768530066590756 sec\n",
      "difference:  2.8035672963004966e-16\n",
      "===============round  2 ======================\n",
      "Creating Gaussian distrbuted Lie group field with sigma = 1.000000e-01\n",
      "Quda dslash: 0.0036861870030406862 sec\n",
      "wilson dslash total time: (without malloc free memcpy) :0.001669450 sec\n",
      "QCU dslash: 0.004401714002597146 sec\n",
      "wilson dslash total time: (without malloc free memcpy) :0.001479680 sec\n",
      "difference:  2.800745222436151e-16\n",
      "===============round  3 ======================\n",
      "Creating Gaussian distrbuted Lie group field with sigma = 1.000000e-01\n",
      "Quda dslash: 0.0026915920025203377 sec\n",
      "wilson dslash total time: (without malloc free memcpy) :0.002054203 sec\n",
      "QCU dslash: 0.007152567006414756 sec\n",
      "wilson dslash total time: (without malloc free memcpy) :0.001612084 sec\n",
      "difference:  2.800299414329561e-16\n",
      "===============round  4 ======================\n",
      "Creating Gaussian distrbuted Lie group field with sigma = 1.000000e-01\n",
      "Quda dslash: 0.0030567710055038333 sec\n",
      "wilson dslash total time: (without malloc free memcpy) :0.002120279 sec\n",
      "QCU dslash: 0.004822149989195168 sec\n",
      "wilson dslash total time: (without malloc free memcpy) :0.000972097 sec\n",
      "difference:  2.8013137776125035e-16\n"
     ]
    }
   ],
   "source": [
    "for i in range(0, 5):\n",
    "    compare(i)\n"
   ]
  }
 ],
 "metadata": {
  "kernelspec": {
   "display_name": "Python 3",
   "language": "python",
   "name": "python3"
  },
  "language_info": {
   "codemirror_mode": {
    "name": "ipython",
    "version": 3
   },
   "file_extension": ".py",
   "mimetype": "text/x-python",
   "name": "python",
   "nbconvert_exporter": "python",
   "pygments_lexer": "ipython3",
   "version": "3.10.12"
  }
 },
 "nbformat": 4,
 "nbformat_minor": 2
}
