{
 "cells": [
  {
   "cell_type": "code",
   "execution_count": 6,
   "metadata": {},
   "outputs": [
    {
     "name": "stdout",
     "output_type": "stream",
     "text": [
      "Creating Gaussian distrbuted Lie group field with sigma = 1.000000e-01\n"
     ]
    }
   ],
   "source": [
    "# init\n",
    "from pyquda.utils import gauge_utils\n",
    "from pyquda.field import LatticeFermion\n",
    "from pyquda import core, pyqcu, mpi\n",
    "import os\n",
    "import sys\n",
    "from time import perf_counter\n",
    "import cupy as cp\n",
    "test_dir = os.path.dirname(os.path.abspath(\"./\"))\n",
    "sys.path.insert(0, os.path.join(test_dir, \"..\"))\n",
    "os.environ[\"QUDA_RESOURCE_PATH\"] = \".cache\"\n",
    "latt_size = [32, 32, 32, 64]\n",
    "grid_size = [1, 1, 1, 1]\n",
    "Lx, Ly, Lz, Lt = latt_size\n",
    "Nd, Ns, Nc = 4, 4, 3\n",
    "Gx, Gy, Gz, Gt = grid_size\n",
    "latt_size = [Lx//Gx, Ly//Gy, Lz//Gz, Lt//Gt]\n",
    "Lx, Ly, Lz, Lt = latt_size\n",
    "Vol = Lx * Ly * Lz * Lt\n",
    "mpi.init(grid_size)\n",
    "device_latt_tmp0 = LatticeFermion(latt_size, cp.zeros(\n",
    "    (Lt, Lz, Ly, Lx, Ns, Nc), cp.complex128))\n",
    "device_latt_tmp1 = LatticeFermion(latt_size, cp.zeros(\n",
    "    (Lt, Lz, Ly, Lx, Ns, Nc), cp.complex128))\n",
    "latt_shape = (Lt, Lz, Ly, Lx//2, Ns, Nc)\n",
    "param = pyqcu.QcuParam()\n",
    "param.lattice_size = latt_size\n",
    "mpi_dslash = core.getDslash(latt_size, -3.5, 0, 0, anti_periodic_t=False)\n",
    "kappa = 0.125\n",
    "U = gauge_utils.gaussGauge(latt_size, 0)\n",
    "mpi_dslash.loadGauge(U)"
   ]
  },
  {
   "cell_type": "code",
   "execution_count": 7,
   "metadata": {},
   "outputs": [],
   "source": [
    "def compare(round):\n",
    "    # generate a vector p randomly\n",
    "    p = LatticeFermion(latt_size, cp.random.randn(Lt, Lz, Ly, Lx, Ns, Nc * 2).view(cp.complex128))\n",
    "    Mp = LatticeFermion(latt_size)\n",
    "    Mp1 = LatticeFermion(latt_size)\n",
    "\n",
    "    print('===============round ', round, '======================')\n",
    "\n",
    "    # Set parameters in Dslash and use m=-3.5 to make kappa=1\n",
    "    dslash = core.getDslash(latt_size, -3.5, 0, 0, anti_periodic_t=False)\n",
    "    # Generate gauge and then load it\n",
    "    U = gauge_utils.gaussGauge(latt_size, round)\n",
    "    dslash.loadGauge(U)\n",
    "\n",
    "    cp.cuda.runtime.deviceSynchronize()\n",
    "    t1 = perf_counter()\n",
    "    quda.dslashQuda(Mp.even_ptr, p.odd_ptr, dslash.invert_param, QudaParity.QUDA_EVEN_PARITY)\n",
    "    quda.dslashQuda(Mp.odd_ptr, p.even_ptr, dslash.invert_param, QudaParity.QUDA_ODD_PARITY)\n",
    "    cp.cuda.runtime.deviceSynchronize()\n",
    "    t2 = perf_counter()\n",
    "    print(f'Quda dslash: {t2 - t1} sec')\n",
    "\n",
    "    # then execute my code\n",
    "    param = pyqcu.QcuParam()\n",
    "    param.lattice_size = latt_size\n",
    "\n",
    "    cp.cuda.runtime.deviceSynchronize()\n",
    "    t1 = perf_counter()\n",
    "    pyqcu.dslashQcu(Mp1.even_ptr, p.odd_ptr, U.data_ptr, param, 0)\n",
    "    pyqcu.dslashQcu(Mp1.odd_ptr, p.even_ptr, U.data_ptr, param, 1)\n",
    "    cp.cuda.runtime.deviceSynchronize()\n",
    "    t2 = perf_counter()\n",
    "    print(f'QCU dslash: {t2 - t1} sec')\n",
    "\n",
    "    print('difference: ', cp.linalg.norm(Mp1.data - Mp.data) / cp.linalg.norm(Mp.data))\n"
   ]
  },
  {
   "cell_type": "code",
   "execution_count": 8,
   "metadata": {},
   "outputs": [
    {
     "name": "stdout",
     "output_type": "stream",
     "text": [
      "===============round  0 ======================\n",
      "Creating Gaussian distrbuted Lie group field with sigma = 1.000000e-01\n",
      "Quda dslash: 0.002549930999521166 sec\n",
      "wilson dslash total time: (without malloc free memcpy) :0.000014645 sec\n",
      "wilson dslash total time: (without malloc free memcpy) :0.000009141 sec\n",
      "QCU dslash: 1.0933354849985335 sec\n",
      "difference:  2.8029896079937236e-16\n",
      "===============round  1 ======================\n",
      "Creating Gaussian distrbuted Lie group field with sigma = 1.000000e-01\n",
      "Quda dslash: 0.002398138996795751 sec\n",
      "wilson dslash total time: (without malloc free memcpy) :0.000008653 sec\n",
      "wilson dslash total time: (without malloc free memcpy) :0.000012267 sec\n",
      "QCU dslash: 1.1031022719980683 sec\n",
      "difference:  2.802614482423885e-16\n",
      "===============round  2 ======================\n",
      "Creating Gaussian distrbuted Lie group field with sigma = 1.000000e-01\n",
      "Quda dslash: 0.003265441999246832 sec\n",
      "wilson dslash total time: (without malloc free memcpy) :0.000008553 sec\n",
      "wilson dslash total time: (without malloc free memcpy) :0.000013271 sec\n",
      "QCU dslash: 1.0947631529998034 sec\n",
      "difference:  2.8015058953408412e-16\n",
      "===============round  3 ======================\n",
      "Creating Gaussian distrbuted Lie group field with sigma = 1.000000e-01\n",
      "Quda dslash: 0.002378660996328108 sec\n",
      "wilson dslash total time: (without malloc free memcpy) :0.000021141 sec\n",
      "wilson dslash total time: (without malloc free memcpy) :0.000007864 sec\n",
      "QCU dslash: 1.096500109997578 sec\n",
      "difference:  2.8025850828256024e-16\n",
      "===============round  4 ======================\n",
      "Creating Gaussian distrbuted Lie group field with sigma = 1.000000e-01\n",
      "Quda dslash: 0.0021753559994976968 sec\n",
      "wilson dslash total time: (without malloc free memcpy) :0.000008769 sec\n",
      "QCU dslash: 1.080614771002729 sec\n",
      "wilson dslash total time: (without malloc free memcpy) :0.000007252 sec\n",
      "difference:  2.8014266314947166e-16\n"
     ]
    }
   ],
   "source": [
    "for i in range(0, 5):\n",
    "    compare(i)\n"
   ]
  }
 ],
 "metadata": {
  "kernelspec": {
   "display_name": "Python 3",
   "language": "python",
   "name": "python3"
  },
  "language_info": {
   "codemirror_mode": {
    "name": "ipython",
    "version": 3
   },
   "file_extension": ".py",
   "mimetype": "text/x-python",
   "name": "python",
   "nbconvert_exporter": "python",
   "pygments_lexer": "ipython3",
   "version": "3.10.12"
  }
 },
 "nbformat": 4,
 "nbformat_minor": 2
}
