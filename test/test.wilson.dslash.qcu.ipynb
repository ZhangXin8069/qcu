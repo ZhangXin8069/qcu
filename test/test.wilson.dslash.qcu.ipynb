{
 "cells": [
  {
   "cell_type": "code",
   "execution_count": 6,
   "metadata": {},
   "outputs": [],
   "source": [
    "import os\n",
    "import sys\n",
    "from time import perf_counter\n",
    "\n",
    "import cupy as cp\n",
    "\n",
    "test_dir = os.path.dirname(os.path.abspath(__file__))\n",
    "sys.path.insert(0, os.path.join(test_dir, \"..\"))\n",
    "\n",
    "from pyquda import init, core, quda, pyqcu, mpi\n",
    "from pyquda.enum_quda import QudaParity\n",
    "from pyquda.field import LatticeFermion\n",
    "from pyquda.utils import gauge_utils\n",
    "\n",
    "os.environ[\"QUDA_RESOURCE_PATH\"] = \".cache\""
   ]
  },
  {
   "cell_type": "code",
   "execution_count": 7,
   "metadata": {},
   "outputs": [],
   "source": [
    "latt_size = [16, 16, 16, 32]\n",
    "grid_size = [1, 1, 1, 1]\n",
    "Lx, Ly, Lz, Lt = latt_size\n",
    "Nd, Ns, Nc = 4, 4, 3\n",
    "Gx, Gy, Gz, Gt = grid_size\n",
    "latt_size = [Lx // Gx, Ly // Gy, Lz // Gz, Lt // Gt]\n",
    "Lx, Ly, Lz, Lt = latt_size\n",
    "Vol = Lx * Ly * Lz * Lt\n",
    "mpi.init(grid_size)\n"
   ]
  },
  {
   "cell_type": "code",
   "execution_count": 8,
   "metadata": {},
   "outputs": [],
   "source": [
    "def compare(round):\n",
    "    # generate a vector p randomly\n",
    "    p = LatticeFermion(latt_size, cp.random.randn(Lt, Lz, Ly, Lx, Ns, Nc * 2).view(cp.complex128))\n",
    "    Mp = LatticeFermion(latt_size)\n",
    "    Mp1 = LatticeFermion(latt_size)\n",
    "\n",
    "    print('===============round ', round, '======================')\n",
    "\n",
    "    # Set parameters in Dslash and use m=-3.5 to make kappa=1\n",
    "    dslash = core.getDslash(latt_size, -3.5, 0, 0, anti_periodic_t=False)\n",
    "    # Generate gauge and then load it\n",
    "    U = gauge_utils.gaussGauge(latt_size, round)\n",
    "    dslash.loadGauge(U)\n",
    "\n",
    "    cp.cuda.runtime.deviceSynchronize()\n",
    "    t1 = perf_counter()\n",
    "    quda.dslashQuda(Mp.even_ptr, p.odd_ptr, dslash.invert_param, QudaParity.QUDA_EVEN_PARITY)\n",
    "    quda.dslashQuda(Mp.odd_ptr, p.even_ptr, dslash.invert_param, QudaParity.QUDA_ODD_PARITY)\n",
    "    cp.cuda.runtime.deviceSynchronize()\n",
    "    t2 = perf_counter()\n",
    "    print(f'Quda dslash: {t2 - t1} sec')\n",
    "\n",
    "    # then execute my code\n",
    "    param = pyqcu.QcuParam()\n",
    "    param.lattice_size = latt_size\n",
    "\n",
    "    cp.cuda.runtime.deviceSynchronize()\n",
    "    t1 = perf_counter()\n",
    "    pyqcu.dslashQcu(Mp1.even_ptr, p.odd_ptr, U.data_ptr, param, 0)\n",
    "    pyqcu.dslashQcu(Mp1.odd_ptr, p.even_ptr, U.data_ptr, param, 1)\n",
    "    cp.cuda.runtime.deviceSynchronize()\n",
    "    t2 = perf_counter()\n",
    "    print(f'QCU dslash: {t2 - t1} sec')\n",
    "\n",
    "    print('difference: ', cp.linalg.norm(Mp1.data - Mp.data) / cp.linalg.norm(Mp.data))\n"
   ]
  },
  {
   "cell_type": "code",
   "execution_count": 9,
   "metadata": {},
   "outputs": [
    {
     "name": "stdout",
     "output_type": "stream",
     "text": [
      "===============round  0 ======================\n",
      "Creating Gaussian distrbuted Lie group field with sigma = 1.000000e-01\n",
      "Quda dslash: 0.02937575400028436 sec\n",
      "QCU dslash: 2.2172904800008837 sec\n",
      "difference:  2.801809750105575e-16\n",
      "===============round  1 ======================\n",
      "Creating Gaussian distrbuted Lie group field with sigma = 1.000000e-01\n",
      "Quda dslash: 0.029179369001212763 sec\n",
      "QCU dslash: 1.206342333000066 sec\n",
      "difference:  2.8018663302238585e-16\n",
      "===============round  2 ======================\n",
      "Creating Gaussian distrbuted Lie group field with sigma = 1.000000e-01\n",
      "Quda dslash: 0.029170587000407977 sec\n",
      "QCU dslash: 1.0685533739997481 sec\n",
      "difference:  2.8025862643791075e-16\n",
      "===============round  3 ======================\n",
      "Creating Gaussian distrbuted Lie group field with sigma = 1.000000e-01\n",
      "Quda dslash: 0.029195077000622405 sec\n",
      "QCU dslash: 1.0352881620001426 sec\n",
      "difference:  2.802950385580066e-16\n",
      "===============round  4 ======================\n",
      "Creating Gaussian distrbuted Lie group field with sigma = 1.000000e-01\n",
      "Quda dslash: 0.029166947000703658 sec\n",
      "QCU dslash: 1.1110246959997312 sec\n",
      "difference:  2.8023235633997327e-16\n"
     ]
    }
   ],
   "source": [
    "for i in range(0, 5):\n",
    "    compare(i)\n"
   ]
  }
 ],
 "metadata": {
  "kernelspec": {
   "display_name": "Python 3",
   "language": "python",
   "name": "python3"
  },
  "language_info": {
   "codemirror_mode": {
    "name": "ipython",
    "version": 3
   },
   "file_extension": ".py",
   "mimetype": "text/x-python",
   "name": "python",
   "nbconvert_exporter": "python",
   "pygments_lexer": "ipython3",
   "version": "3.10.12"
  }
 },
 "nbformat": 4,
 "nbformat_minor": 2
}
