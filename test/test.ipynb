{
 "cells": [
  {
   "cell_type": "code",
   "execution_count": 26,
   "metadata": {},
   "outputs": [],
   "source": [
    "import numpy as np"
   ]
  },
  {
   "cell_type": "code",
   "execution_count": 27,
   "metadata": {},
   "outputs": [],
   "source": [
    "lat_x = lat_y = lat_z = lat_t = 32\n",
    "lat_x /= 2\n",
    "lat_p = 2\n",
    "lat_d = 4\n",
    "lat_cc = 9\n",
    "x = 5\n",
    "y = 9\n",
    "z = 0\n",
    "t = 31"
   ]
  },
  {
   "cell_type": "code",
   "execution_count": 28,
   "metadata": {},
   "outputs": [],
   "source": [
    "def print_index(_):\n",
    "    print(\"###_:\", _)\n",
    "    __ = _ % lat_x\n",
    "    _ = (_-__)/lat_x\n",
    "    print(\"@x:\", __)\n",
    "    print(\"###_:\", _)\n",
    "    __ = _ % lat_y\n",
    "    _ = (_-__)/lat_y\n",
    "    print(\"@y:\", __)\n",
    "    print(\"###_:\", _)\n",
    "    __ = _ % lat_z\n",
    "    _ = (_-__)/lat_z\n",
    "    print(\"@z:\", __)\n",
    "    print(\"###_:\", _)\n",
    "    __ = _ % lat_t\n",
    "    _ = (_-__)/lat_t\n",
    "    print(\"@t:\", __)\n",
    "    print(\"###_:\", _)\n",
    "    __ = _ % lat_p\n",
    "    _ = (_-__)/lat_p\n",
    "    print(\"@p:\", __)\n",
    "    print(\"###_:\", _)\n",
    "    __ = _ % lat_d\n",
    "    _ = (_-__)/lat_d\n",
    "    print(\"@d:\", __)\n",
    "    print(\"###_:\", _)\n",
    "    __ = _ % lat_cc\n",
    "    _ = (_-__)/lat_cc\n",
    "    print(\"@cc:\", __)\n",
    "\n",
    "\n",
    "def print_val(x, y, z, t, p, d, cc):\n",
    "    print(\"###:\",\n",
    "          ((((((cc * lat_d + d ) * lat_p + p ) * lat_t + t )*lat_z + z) * lat_y + y) * lat_x + x))"
   ]
  },
  {
   "cell_type": "code",
   "execution_count": 29,
   "metadata": {},
   "outputs": [
    {
     "name": "stdout",
     "output_type": "stream",
     "text": [
      "###_: 1032341\n",
      "@x: 5.0\n",
      "###_: 64521.0\n",
      "@y: 9.0\n",
      "###_: 2016.0\n",
      "@z: 0.0\n",
      "###_: 63.0\n",
      "@t: 31.0\n",
      "###_: 1.0\n",
      "@p: 1.0\n",
      "###_: 0.0\n",
      "@d: 0.0\n",
      "###_: 0.0\n",
      "@cc: 0.0\n"
     ]
    }
   ],
   "source": [
    "print_index(1032341)"
   ]
  },
  {
   "cell_type": "code",
   "execution_count": 30,
   "metadata": {},
   "outputs": [
    {
     "name": "stdout",
     "output_type": "stream",
     "text": [
      "###_: 9291069\n",
      "@x: 13.0\n",
      "###_: 580691.0\n",
      "@y: 19.0\n",
      "###_: 18146.0\n",
      "@z: 2.0\n",
      "###_: 567.0\n",
      "@t: 23.0\n",
      "###_: 17.0\n",
      "@p: 1.0\n",
      "###_: 8.0\n",
      "@d: 0.0\n",
      "###_: 2.0\n",
      "@cc: 2.0\n"
     ]
    }
   ],
   "source": [
    "print_index(9291069)"
   ]
  },
  {
   "cell_type": "code",
   "execution_count": 31,
   "metadata": {},
   "outputs": [
    {
     "name": "stdout",
     "output_type": "stream",
     "text": [
      "###: 9291069.0\n"
     ]
    }
   ],
   "source": [
    "print_val(13,19,2,23,1,0,2)"
   ]
  },
  {
   "cell_type": "code",
   "execution_count": 32,
   "metadata": {},
   "outputs": [],
   "source": [
    "#x:11#y:8#z:28#t:25#parity:1#real:945627.000000"
   ]
  },
  {
   "cell_type": "code",
   "execution_count": 33,
   "metadata": {},
   "outputs": [
    {
     "name": "stdout",
     "output_type": "stream",
     "text": [
      "###_: 945627\n",
      "@x: 11.0\n",
      "###_: 59101.0\n",
      "@y: 29.0\n",
      "###_: 1846.0\n",
      "@z: 22.0\n",
      "###_: 57.0\n",
      "@t: 25.0\n",
      "###_: 1.0\n",
      "@p: 1.0\n",
      "###_: 0.0\n",
      "@d: 0.0\n",
      "###_: 0.0\n",
      "@cc: 0.0\n"
     ]
    }
   ],
   "source": [
    "print_index(945627)"
   ]
  },
  {
   "cell_type": "code",
   "execution_count": 34,
   "metadata": {},
   "outputs": [
    {
     "name": "stdout",
     "output_type": "stream",
     "text": [
      "###: 948363.0\n"
     ]
    }
   ],
   "source": [
    "print_val(11,8,28,25,1,0,00)"
   ]
  }
 ],
 "metadata": {
  "kernelspec": {
   "display_name": "Python 3",
   "language": "python",
   "name": "python3"
  },
  "language_info": {
   "codemirror_mode": {
    "name": "ipython",
    "version": 3
   },
   "file_extension": ".py",
   "mimetype": "text/x-python",
   "name": "python",
   "nbconvert_exporter": "python",
   "pygments_lexer": "ipython3",
   "version": "3.10.12"
  }
 },
 "nbformat": 4,
 "nbformat_minor": 2
}
