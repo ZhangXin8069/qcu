{
 "cells": [
  {
   "cell_type": "code",
   "execution_count": 139,
   "metadata": {},
   "outputs": [],
   "source": [
    "import numpy as np"
   ]
  },
  {
   "cell_type": "code",
   "execution_count": 140,
   "metadata": {},
   "outputs": [],
   "source": [
    "lat_x = lat_y = lat_z = lat_t = 32\n",
    "lat_p=2\n",
    "lat_d=4\n",
    "lat_cc=9\n",
    "_EVEN_ODD_ = 2\n",
    "lat_x /= 2\n",
    "x = 5\n",
    "y = 9\n",
    "z = 0\n",
    "t = 31\n",
    "parity = 1"
   ]
  },
  {
   "cell_type": "code",
   "execution_count": 141,
   "metadata": {},
   "outputs": [],
   "source": [
    "i = 0"
   ]
  },
  {
   "cell_type": "code",
   "execution_count": 142,
   "metadata": {},
   "outputs": [
    {
     "data": {
      "text/plain": [
       "1032341.0"
      ]
     },
     "execution_count": 142,
     "metadata": {},
     "output_type": "execute_result"
    }
   ],
   "source": [
    "((((parity * lat_t + t) * lat_z + z) * lat_y + y) * lat_x + x)"
   ]
  },
  {
   "cell_type": "code",
   "execution_count": 143,
   "metadata": {},
   "outputs": [
    {
     "data": {
      "text/plain": [
       "4178069.0"
      ]
     },
     "execution_count": 143,
     "metadata": {},
     "output_type": "execute_result"
    }
   ],
   "source": [
    "(((((3 * _EVEN_ODD_ + parity) * lat_t + t) * lat_z + z) * lat_y + y) *\n",
    " lat_x +\n",
    " x)"
   ]
  },
  {
   "cell_type": "code",
   "execution_count": 144,
   "metadata": {},
   "outputs": [
    {
     "data": {
      "text/plain": [
       "508053.0"
      ]
     },
     "execution_count": 144,
     "metadata": {},
     "output_type": "execute_result"
    }
   ],
   "source": [
    "idx = ((((t) * lat_z + z) * lat_y + y) * lat_x + x)\n",
    "idx"
   ]
  },
  {
   "cell_type": "code",
   "execution_count": 145,
   "metadata": {},
   "outputs": [
    {
     "data": {
      "text/plain": [
       "1032341.0"
      ]
     },
     "execution_count": 145,
     "metadata": {},
     "output_type": "execute_result"
    }
   ],
   "source": [
    "((((parity * lat_t + t) * lat_z + z) * lat_y + y) * lat_x + x)"
   ]
  },
  {
   "cell_type": "code",
   "execution_count": null,
   "metadata": {},
   "outputs": [],
   "source": [
    "def print_index(_):\n",
    "    print(\"##\", _)\n",
    "    __ = _ % lat_x\n",
    "    _ -= (__)\n",
    "    _ /= lat_x\n",
    "    print(\"##\", _)\n",
    "    print(\"@x:\", __)\n",
    "    __ = _ % lat_y\n",
    "    _ -= (__)\n",
    "    _ /= lat_y\n",
    "    print(\"##\", _)\n",
    "    print(\"@y:\", __)\n",
    "    __ = _ % lat_z\n",
    "    _ -= (__)\n",
    "    _ /= lat_z\n",
    "    print(\"##\", _)\n",
    "    print(\"@z:\", __)\n",
    "    __ = _ % lat_t\n",
    "    _ -= (__)\n",
    "    _ /= lat_t\n",
    "    print(\"##\", _)\n",
    "    print(\"@t:\", __)\n",
    "    __ = _ % lat_p\n",
    "    _ -= (__)\n",
    "    _ /= lat_p\n",
    "    print(\"##\", _)\n",
    "    print(\"@p:\", __)\n",
    "    __ = _ % lat_d\n",
    "    _ -= (__)\n",
    "    _ /= lat_d\n",
    "    print(\"##\", _)\n",
    "    print(\"@d:\", __)\n",
    "    __ = _ % lat_cc\n",
    "    _ -= (__)\n",
    "    _ /= lat_cc\n",
    "    print(\"##\", _)\n",
    "    print(\"@cc:\", __)"
   ]
  },
  {
   "cell_type": "code",
   "execution_count": 146,
   "metadata": {},
   "outputs": [
    {
     "name": "stdout",
     "output_type": "stream",
     "text": [
      "## 9291069\n",
      "## 580691.0\n",
      "@x: 13.0\n",
      "## 18146.0\n",
      "@y: 19.0\n",
      "## 567.0\n",
      "@z: 2.0\n",
      "## 17.0\n",
      "@t: 23.0\n",
      "## 8.0\n",
      "@p: 1.0\n",
      "## 2.0\n",
      "@d: 0.0\n",
      "## 0.0\n",
      "@cc: 2.0\n"
     ]
    }
   ],
   "source": [
    "_ = 9291069\n"
   ]
  },
  {
   "cell_type": "code",
   "execution_count": 147,
   "metadata": {},
   "outputs": [
    {
     "name": "stdout",
     "output_type": "stream",
     "text": [
      "## 37602621\n",
      "## 2350163.0\n",
      "@x: 13.0\n",
      "## 73442.0\n",
      "@y: 19.0\n",
      "## 2295.0\n",
      "@z: 2.0\n",
      "## 71.0\n",
      "@t: 23.0\n",
      "## 35.0\n",
      "@p: 1.0\n",
      "## 8.0\n",
      "@d: 3.0\n",
      "## 0.0\n",
      "@cc: 8.0\n"
     ]
    }
   ],
   "source": [
    "_ = 37602621\n",
    "print(\"##\", _)\n",
    "__ = _ % lat_x\n",
    "_ -= (__)\n",
    "_ /= lat_x\n",
    "print(\"##\", _)\n",
    "print(\"@x:\", __)\n",
    "__ = _ % lat_y\n",
    "_ -= (__)\n",
    "_ /= lat_y\n",
    "print(\"##\", _)\n",
    "print(\"@y:\", __)\n",
    "__ = _ % lat_z\n",
    "_ -= (__)\n",
    "_ /= lat_z\n",
    "print(\"##\", _)\n",
    "print(\"@z:\", __)\n",
    "__ = _ % lat_t\n",
    "_ -= (__)\n",
    "_ /= lat_t\n",
    "print(\"##\", _)\n",
    "print(\"@t:\", __)\n",
    "__ = _ % lat_p\n",
    "_ -= (__)\n",
    "_ /= lat_p\n",
    "print(\"##\", _)\n",
    "print(\"@p:\", __)\n",
    "__ = _ % lat_d\n",
    "_ -= (__)\n",
    "_ /= lat_d\n",
    "print(\"##\", _)\n",
    "print(\"@d:\", __)\n",
    "__ = _ % lat_cc\n",
    "_ -= (__)\n",
    "_ /= lat_cc\n",
    "print(\"##\", _)\n",
    "print(\"@cc:\", __)"
   ]
  }
 ],
 "metadata": {
  "kernelspec": {
   "display_name": "Python 3",
   "language": "python",
   "name": "python3"
  },
  "language_info": {
   "codemirror_mode": {
    "name": "ipython",
    "version": 3
   },
   "file_extension": ".py",
   "mimetype": "text/x-python",
   "name": "python",
   "nbconvert_exporter": "python",
   "pygments_lexer": "ipython3",
   "version": "2.7.5"
  }
 },
 "nbformat": 4,
 "nbformat_minor": 2
}
