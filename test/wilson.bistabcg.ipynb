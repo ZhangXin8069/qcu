{
 "cells": [
  {
   "cell_type": "code",
   "execution_count": null,
   "metadata": {},
   "outputs": [],
   "source": [
    "# init\n",
    "from pyquda.utils import gauge_utils\n",
    "from pyquda.field import LatticeFermion\n",
    "from pyquda import core, pyqcu, mpi\n",
    "import os\n",
    "import sys\n",
    "from time import perf_counter\n",
    "import cupy as cp\n",
    "test_dir = os.path.dirname(os.path.abspath(\"./\"))\n",
    "sys.path.insert(0, os.path.join(test_dir, \"..\"))\n",
    "os.environ[\"QUDA_RESOURCE_PATH\"] = \".cache\"\n",
    "latt_size = [32, 32, 32, 64]\n",
    "grid_size = [1, 1, 1, 1]\n",
    "Lx, Ly, Lz, Lt = latt_size\n",
    "Nd, Ns, Nc = 4, 4, 3\n",
    "Gx, Gy, Gz, Gt = grid_size\n",
    "latt_size = [Lx//Gx, Ly//Gy, Lz//Gz, Lt//Gt]\n",
    "Lx, Ly, Lz, Lt = latt_size\n",
    "Vol = Lx * Ly * Lz * Lt\n",
    "mpi.init(grid_size)\n",
    "latt_tmp0 = LatticeFermion(latt_size, cp.zeros(\n",
    "    (Lt, Lz, Ly, Lx, Ns, Nc), cp.complex128))\n",
    "latt_tmp1 = LatticeFermion(latt_size, cp.zeros(\n",
    "    (Lt, Lz, Ly, Lx, Ns, Nc), cp.complex128))\n",
    "latt_shape = (Lt, Lz, Ly, Lx//2, Ns, Nc)\n",
    "param = pyqcu.QcuParam()\n",
    "param.lattice_size = latt_size\n",
    "_dslash = core.getDslash(latt_size, -3.5, 0, 0, anti_periodic_t=False)\n",
    "kappa = 0.125\n",
    "U = gauge_utils.gaussGauge(latt_size, 0)\n",
    "_dslash.loadGauge(U)"
   ]
  },
  {
   "cell_type": "code",
   "execution_count": null,
   "metadata": {},
   "outputs": [],
   "source": [
    "# give ans first\n",
    "ans_e = cp.random.random(latt_shape) + 1j * \\\n",
    "    cp.random.random(latt_shape)  # ans_e\n",
    "ans_o = cp.random.random(latt_shape) + 1j * \\\n",
    "    cp.random.random(latt_shape)  # ans_o"
   ]
  },
  {
   "cell_type": "code",
   "execution_count": null,
   "metadata": {},
   "outputs": [],
   "source": [
    "# give x_o, b__o, r, r_tilde, p, v, s, t\n",
    "x_o = cp.random.random(latt_shape) + 1j * cp.random.random(latt_shape)  # x_o\n",
    "b_e = cp.zeros(latt_shape, cp.complex128)\n",
    "b_o = cp.zeros(latt_shape, cp.complex128)\n",
    "b__o = cp.zeros(latt_shape, cp.complex128)\n",
    "r = cp.zeros(latt_shape, cp.complex128)\n",
    "r_tilde = cp.zeros(latt_shape, cp.complex128)\n",
    "p = cp.zeros(latt_shape, cp.complex128)\n",
    "s = cp.zeros(latt_shape, cp.complex128)\n",
    "v = cp.zeros(latt_shape, cp.complex128)\n",
    "t = cp.zeros(latt_shape, cp.complex128)\n",
    "# give r_norm2, MAX_ITER, TOL, rho_prev, rho, alpha, omega, beta, kappa\n",
    "r_norm2 = 0\n",
    "MAX_ITER = 1e3\n",
    "TOL = 1e-16\n",
    "rho_prev = 1\n",
    "rho = 0\n",
    "alpha = 1\n",
    "omega = 1\n",
    "beta = 0\n",
    "kappa = 0.125"
   ]
  },
  {
   "cell_type": "code",
   "execution_count": null,
   "metadata": {},
   "outputs": [],
   "source": [
    "# define dslash\n",
    "def dslash_eo(src_o):\n",
    "    latt_tmp1.data[1, :] = src_o\n",
    "    pyqcu.dslashQcu(latt_tmp0.even_ptr, latt_tmp1.odd_ptr,\n",
    "                    U.data_ptr, param, 0)  # D_eo\n",
    "    return latt_tmp0.data[0, :]\n",
    "\n",
    "\n",
    "def dslash_oe(src_e):\n",
    "    latt_tmp1.data[0, :] = src_e\n",
    "    pyqcu.dslashQcu(latt_tmp0.odd_ptr, latt_tmp1.even_ptr,\n",
    "                    U.data_ptr, param, 1)  # D_oe\n",
    "    return latt_tmp0.data[1, :]\n",
    "\n",
    "\n",
    "def dslash(src_o):\n",
    "    return src_o-kappa**2*dslash_oe(dslash_eo(src_o))"
   ]
  },
  {
   "cell_type": "code",
   "execution_count": null,
   "metadata": {},
   "outputs": [],
   "source": [
    "# give b'_o(b__0)\n",
    "b__o = (ans_o-kappa*dslash_oe(ans_e))+kappa*dslash_oe((ans_e-kappa*dslash_eo(ans_o)))"
   ]
  },
  {
   "cell_type": "code",
   "execution_count": null,
   "metadata": {},
   "outputs": [],
   "source": [
    "def dot(a, b):\n",
    "    cp.cuda.runtime.deviceSynchronize()\n",
    "    return cp.inner(a.flatten().conjugate(), b.flatten())\n",
    "\n",
    "\n",
    "def diff(a, b):\n",
    "    cp.cuda.runtime.deviceSynchronize()\n",
    "    return cp.linalg.norm(a - b) / cp.linalg.norm(b)"
   ]
  },
  {
   "cell_type": "code",
   "execution_count": null,
   "metadata": {},
   "outputs": [],
   "source": [
    "# bistabcg\n",
    "r = b__o - dslash(x_o)\n",
    "r_tilde = r"
   ]
  },
  {
   "cell_type": "code",
   "execution_count": null,
   "metadata": {},
   "outputs": [],
   "source": [
    "t0 = perf_counter()\n",
    "for i in range(1, int(MAX_ITER)):\n",
    "    # print(\"## rho:\", rho)\n",
    "    rho = dot(r_tilde, r)\n",
    "    # print(\"## beta:\", beta)\n",
    "    beta = (rho / rho_prev) * (alpha / omega)\n",
    "    p = r + (p - v * omega) * beta\n",
    "    # v = A * p\n",
    "    v = dslash(p)\n",
    "    # print(\"## alpha:\", alpha)\n",
    "    alpha = rho / dot(r_tilde, v)\n",
    "    s = r - v * alpha\n",
    "    # t = A * s\n",
    "    t = dslash(s)\n",
    "    # print(\"## omega:\", omega)\n",
    "    omega = dot(t, s) / dot(t, t)\n",
    "    x_o = x_o + p * alpha + s * omega\n",
    "    r = s - t * omega\n",
    "    r_norm2 = cp.linalg.norm(r)\n",
    "    print(\"##{}# r_norm2:{}\".format(i, r_norm2))\n",
    "    # break\n",
    "    if (r_norm2 < TOL or i == MAX_ITER - 1):\n",
    "        print(\"### turns:\", i)\n",
    "        break\n",
    "    rho_prev = rho\n",
    "t1 = perf_counter()"
   ]
  },
  {
   "cell_type": "code",
   "execution_count": null,
   "metadata": {},
   "outputs": [],
   "source": [
    "print(\"### ans_o = \", ans_o[0, 0, 0, 0, :, :])\n",
    "print(\"### x_o = \", x_o[0, 0, 0, 0, :, :])\n",
    "print('## difference: ', diff(x_o, ans_o))\n",
    "print(f'Quda dslash: {t1 - t0} sec')"
   ]
  },
  {
   "cell_type": "code",
   "execution_count": null,
   "metadata": {},
   "outputs": [],
   "source": [
    "x_e = ans_e-kappa*dslash_eo(ans_o)+kappa * \\\n",
    "    dslash_eo(x_o)  # equal to x_o == ans_o\n",
    "print(diff(x_e, ans_e))"
   ]
  }
 ],
 "metadata": {
  "kernelspec": {
   "display_name": "Python 3",
   "language": "python",
   "name": "python3"
  },
  "language_info": {
   "codemirror_mode": {
    "name": "ipython",
    "version": 3
   },
   "file_extension": ".py",
   "mimetype": "text/x-python",
   "name": "python",
   "nbconvert_exporter": "python",
   "pygments_lexer": "ipython3",
   "version": "3.10.12"
  }
 },
 "nbformat": 4,
 "nbformat_minor": 2
}
