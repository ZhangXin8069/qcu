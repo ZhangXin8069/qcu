{
 "cells": [
  {
   "cell_type": "code",
   "execution_count": 20,
   "metadata": {},
   "outputs": [],
   "source": [
    "import os\n",
    "import sys\n",
    "from time import perf_counter\n",
    "import cupy as cp\n",
    "__file__=\".\"\n",
    "test_dir = os.path.dirname(os.path.abspath(__file__))\n",
    "sys.path.insert(0, os.path.join(test_dir, \"..\"))\n",
    "from pyquda import init, core, quda, mpi\n",
    "import pyquda.pyqcu as pyquda_pyqcu\n",
    "from pyquda.enum_quda import QudaParity\n",
    "from pyquda.field import LatticeFermion\n",
    "from pyquda.utils import gauge_utils\n",
    "import pyqcu"
   ]
  },
  {
   "cell_type": "code",
   "execution_count": 5,
   "metadata": {},
   "outputs": [],
   "source": [
    "os.environ[\"QUDA_RESOURCE_PATH\"] = \".cache\"\n",
    "latt_size = [32, 32, 32, 64]\n",
    "grid_size = [1, 1, 1, 1]\n",
    "Lx, Ly, Lz, Lt = latt_size\n",
    "Nd, Ns, Nc = 4, 4, 3\n",
    "Gx, Gy, Gz, Gt = grid_size\n",
    "latt_size = [Lx // Gx, Ly // Gy, Lz // Gz, Lt // Gt]\n",
    "Lx, Ly, Lz, Lt = latt_size\n",
    "Vol = Lx * Ly * Lz * Lt\n",
    "mpi.init(grid_size)"
   ]
  },
  {
   "cell_type": "code",
   "execution_count": 6,
   "metadata": {},
   "outputs": [
    {
     "name": "stdout",
     "output_type": "stream",
     "text": [
      "===============round  1 ======================\n",
      "Creating Gaussian distrbuted Lie group field with sigma = 1.000000e-01\n",
      "Quda dslash: 0.20183226200242643 sec\n"
     ]
    }
   ],
   "source": [
    "round=1\n",
    "# generate a vector p randomly\n",
    "p = LatticeFermion(latt_size, cp.random.randn(Lt, Lz, Ly, Lx, Ns, Nc * 2).view(cp.complex128))\n",
    "Mp = LatticeFermion(latt_size)\n",
    "# Mp1 = LatticeFermion(latt_size)\n",
    "# Mp2 = LatticeFermion(latt_size)\n",
    "print('===============round ', round, '======================')\n",
    "# Set parameters in Dslash and use m=-3.5 to make kappa=1\n",
    "dslash = core.getDslash(latt_size, -3.5, 0, 0, anti_periodic_t=False)\n",
    "# Generate gauge and then load it\n",
    "U = gauge_utils.gaussGauge(latt_size, round)\n",
    "dslash.loadGauge(U)\n",
    "cp.cuda.runtime.deviceSynchronize()\n",
    "t1 = perf_counter()\n",
    "quda.dslashQuda(Mp.even_ptr, p.odd_ptr, dslash.invert_param, QudaParity.QUDA_EVEN_PARITY)\n",
    "quda.dslashQuda(Mp.odd_ptr, p.even_ptr, dslash.invert_param, QudaParity.QUDA_ODD_PARITY)\n",
    "cp.cuda.runtime.deviceSynchronize()\n",
    "t2 = perf_counter()\n",
    "print(f'Quda dslash: {t2 - t1} sec')\n",
    "# # then execute my code\n",
    "# param = pyquda_pyqcu.QcuParam()\n",
    "# param.lattice_size = latt_size\n",
    "# grid = pyquda_pyqcu.QcuParam()\n",
    "# grid.lattice_size = grid_size\n",
    "# cp.cuda.runtime.deviceSynchronize()\n",
    "# t1 = perf_counter()\n",
    "# pyquda_pyqcu.mpiDslashQcu(Mp1.even_ptr, p.odd_ptr, U.data_ptr, param, 0, grid)\n",
    "# pyquda_pyqcu.mpiDslashQcu(Mp1.odd_ptr, p.even_ptr, U.data_ptr, param, 1, grid)\n",
    "# cp.cuda.runtime.deviceSynchronize()\n",
    "# t2 = perf_counter()\n",
    "# print(f'QCU dslash: {t2 - t1} sec')\n",
    "# print('quda difference: ', cp.linalg.norm(Mp1.data - Mp.data) / cp.linalg.norm(Mp.data))"
   ]
  },
  {
   "cell_type": "code",
   "execution_count": 10,
   "metadata": {},
   "outputs": [],
   "source": [
    "pyqcu_param={'Lx':Lx, 'Ly':Ly, 'Lz':Lz, 'Lt':Lt}"
   ]
  },
  {
   "cell_type": "code",
   "execution_count": 23,
   "metadata": {},
   "outputs": [
    {
     "name": "stdout",
     "output_type": "stream",
     "text": [
      "<class 'cupy.cuda.memory.MemoryPointer'>\n"
     ]
    }
   ],
   "source": [
    "print(type(Mp.even.data))"
   ]
  },
  {
   "cell_type": "code",
   "execution_count": 22,
   "metadata": {},
   "outputs": [],
   "source": [
    "pyqcu.wilson_dslash.run(pyqcu_param, p.even)"
   ]
  }
 ],
 "metadata": {
  "kernelspec": {
   "display_name": "Python 3",
   "language": "python",
   "name": "python3"
  },
  "language_info": {
   "codemirror_mode": {
    "name": "ipython",
    "version": 3
   },
   "file_extension": ".py",
   "mimetype": "text/x-python",
   "name": "python",
   "nbconvert_exporter": "python",
   "pygments_lexer": "ipython3",
   "version": "3.10.12"
  }
 },
 "nbformat": 4,
 "nbformat_minor": 2
}
