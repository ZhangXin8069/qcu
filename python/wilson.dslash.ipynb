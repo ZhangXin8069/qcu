{
 "cells": [
  {
   "cell_type": "code",
   "execution_count": 7,
   "metadata": {},
   "outputs": [],
   "source": [
    "from pyquda.utils import gauge_utils\n",
    "from pyquda.field import LatticeFermion\n",
    "from pyquda.enum_quda import QudaParity\n",
    "import pyquda.pyqcu as pyqcu_pyquda\n",
    "from pyquda import init, core, quda, mpi\n",
    "import os\n",
    "import sys\n",
    "from time import perf_counter\n",
    "import cupy as cp\n",
    "__file__ = \".\"\n",
    "test_dir = os.path.dirname(os.path.abspath(__file__))\n",
    "sys.path.insert(0, os.path.join(test_dir, \"..\"))"
   ]
  },
  {
   "cell_type": "code",
   "execution_count": 8,
   "metadata": {},
   "outputs": [],
   "source": [
    "os.environ[\"QUDA_RESOURCE_PATH\"] = \".cache\"\n",
    "latt_size = [32, 32, 32, 64]\n",
    "grid_size = [1, 1, 1, 1]\n",
    "Lx, Ly, Lz, Lt = latt_size\n",
    "Nd, Ns, Nc = 4, 4, 3\n",
    "Gx, Gy, Gz, Gt = grid_size\n",
    "latt_size = [Lx // Gx, Ly // Gy, Lz // Gz, Lt // Gt]\n",
    "Lx, Ly, Lz, Lt = latt_size\n",
    "Vol = Lx * Ly * Lz * Lt\n",
    "mpi.init(grid_size)"
   ]
  },
  {
   "cell_type": "code",
   "execution_count": 9,
   "metadata": {},
   "outputs": [
    {
     "name": "stdout",
     "output_type": "stream",
     "text": [
      "===============round  1 ======================\n",
      "Creating Gaussian distrbuted Lie group field with sigma = 1.000000e-01\n",
      "Quda dslash: 0.029352483000366192 sec\n"
     ]
    }
   ],
   "source": [
    "round = 1\n",
    "# generate a vector p randomly\n",
    "p = LatticeFermion(latt_size, cp.random.randn(\n",
    "    Lt, Lz, Ly, Lx, Ns, Nc * 2).view(cp.complex128))\n",
    "Mp = LatticeFermion(latt_size)\n",
    "Mp1 = LatticeFermion(latt_size)\n",
    "print('===============round ', round, '======================')\n",
    "# Set parameters in Dslash and use m=-3.5 to make kappa=1\n",
    "dslash = core.getDslash(latt_size, -3.5, 0, 0, anti_periodic_t=False)\n",
    "# Generate gauge and then load it\n",
    "U = gauge_utils.gaussGauge(latt_size, round)\n",
    "dslash.loadGauge(U)\n",
    "cp.cuda.runtime.deviceSynchronize()\n",
    "t1 = perf_counter()\n",
    "quda.dslashQuda(Mp.even_ptr, p.odd_ptr, dslash.invert_param,\n",
    "                QudaParity.QUDA_EVEN_PARITY)\n",
    "quda.dslashQuda(Mp.odd_ptr, p.even_ptr, dslash.invert_param,\n",
    "                QudaParity.QUDA_ODD_PARITY)\n",
    "cp.cuda.runtime.deviceSynchronize()\n",
    "t2 = perf_counter()\n",
    "print(f'Quda dslash: {t2 - t1} sec')\n",
    "# # then execute my code\n",
    "# param = pyqcu_pyquda.QcuParam()\n",
    "# param.lattice_size = latt_size\n",
    "# grid = pyqcu_pyquda.QcuParam()\n",
    "# grid.lattice_size = grid_size\n",
    "# cp.cuda.runtime.deviceSynchronize()\n",
    "# t1 = perf_counter()\n",
    "# pyqcu_pyquda.mpiDslashQcu(Mp1.even_ptr, p.odd_ptr, U.data_ptr, param, 0, grid)\n",
    "# pyqcu_pyquda.mpiDslashQcu(Mp1.odd_ptr, p.even_ptr, U.data_ptr, param, 1, grid)\n",
    "# cp.cuda.runtime.deviceSynchronize()\n",
    "# t2 = perf_counter()\n",
    "# print(f'QCU dslash: {t2 - t1} sec')\n",
    "# print('quda difference: ', cp.linalg.norm(Mp1.data - Mp.data) / cp.linalg.norm(Mp.data))"
   ]
  },
  {
   "cell_type": "code",
   "execution_count": 10,
   "metadata": {},
   "outputs": [
    {
     "name": "stdout",
     "output_type": "stream",
     "text": [
      "<class 'cupy.ndarray'>\n",
      "2097152\n",
      "(2, 64, 32, 32, 16, 4, 3)\n",
      "(1, 64, 32, 32, 16, 4, 3)\n",
      "32\n",
      "[[0 1 2]\n",
      " [3 4 5]\n",
      " [6 7 8]]\n",
      "[[  0   2   8]\n",
      " [ 18  32  50]\n",
      " [ 72  98 128]]\n",
      "(2, 64, 32, 32, 16, 4, 3)\n",
      "(64, 32, 32, 16, 4)\n",
      "(4, 16, 32, 32, 64)\n",
      "[[-7.79463167+3.82041185j -2.67918233-8.81205315j -0.96079799+2.7464239j ]\n",
      " [-2.5789167 -4.62066228j -8.90062615-0.31839921j -0.5981887 +2.69039185j]\n",
      " [ 0.03278843+0.04172689j  1.34531541+5.50177627j  1.61409576+3.78606659j]\n",
      " [ 0.58109637-1.75806598j -0.65134949-1.95508613j  8.15004829-6.18272868j]]\n"
     ]
    }
   ],
   "source": [
    "print(type(Mp.data))\n",
    "print(Lx*Ly*Lz*Lt)\n",
    "print(Mp.data.shape)\n",
    "print(Mp.data[len(Mp.data)/2:].shape)\n",
    "print(Mp.data[0].shape[2])\n",
    "x_gpu = cp.array(range(9)).reshape([3,3])\n",
    "print(x_gpu)\n",
    "print(x_gpu*x_gpu*2)\n",
    "print(Mp.data.shape)\n",
    "print(Mp.data.shape[1:-1])\n",
    "print(Mp.data.shape[1:-1][::-1])\n",
    "print(Mp.data[0,0,0,0,0])"
   ]
  },
  {
   "cell_type": "code",
   "execution_count": 11,
   "metadata": {},
   "outputs": [
    {
     "name": "stdout",
     "output_type": "stream",
     "text": [
      "QCU dslash: 0.28550472799997806 sec\n",
      "quda difference:  1.0\n"
     ]
    }
   ],
   "source": [
    "import pyqcu.wilson_dslash\n",
    "Mp_pyqcu = LatticeFermion(latt_size)\n",
    "t1 = perf_counter()\n",
    "pyqcu.wilson_dslash.run(src=p.data, dest=Mp_pyqcu.data, U=U.data)\n",
    "t2 = perf_counter()\n",
    "print(f'QCU dslash: {t2 - t1} sec')\n",
    "print('quda difference: ', cp.linalg.norm(Mp_pyqcu.data - Mp.data) / cp.linalg.norm(Mp.data))"
   ]
  },
  {
   "cell_type": "code",
   "execution_count": 12,
   "metadata": {},
   "outputs": [],
   "source": [
    "# M_TEST_LIST = [LatticeFermion(latt_size) for i in range(20)]"
   ]
  }
 ],
 "metadata": {
  "kernelspec": {
   "display_name": "Python 3",
   "language": "python",
   "name": "python3"
  },
  "language_info": {
   "codemirror_mode": {
    "name": "ipython",
    "version": 3
   },
   "file_extension": ".py",
   "mimetype": "text/x-python",
   "name": "python",
   "nbconvert_exporter": "python",
   "pygments_lexer": "ipython3",
   "version": "3.10.12"
  }
 },
 "nbformat": 4,
 "nbformat_minor": 2
}
